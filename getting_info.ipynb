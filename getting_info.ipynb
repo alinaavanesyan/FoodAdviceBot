import sqlite3

def write_to_db(dish_info):
    info = [list(row.values()) for row in dish_info if row['name'] is not None]
    info2 = []
    for row in info:
        if row[0] not in [a[0] for a in info2]:
            info2.append(row)
    cur.executemany(
        """
        INSERT INTO main
            (id, name, category, cuisine, ingredients, steps, images)
            VALUES (?, ?, ?, ?, ?, ?, ?)
        """, [row for row in info2]
    )
    for row in info2:
        ingredients = row[4].split(',')
        composition = []
        for product in ingredients:
            composition.append([int(row[0]), product])
        cur.executemany(
            """
            INSERT INTO ingredients 
                (id, ingredient)
                VALUES (?, ?)
            """, [row for row in composition]
        )

    conn.commit()

conn = sqlite3.connect('main5.db')
cur = conn.cursor()
cur.execute("""
CREATE TABLE IF NOT EXISTS main
(id INTEGER PRIMARY KEY, name, category, cuisine, ingredients, steps, images)
""")

cur.execute("""
CREATE TABLE IF NOT EXISTS ingredients
(id, ingredient)
""")

write_to_db(all_results)
